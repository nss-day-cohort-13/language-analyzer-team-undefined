{
 "cells": [
  {
   "cell_type": "code",
   "execution_count": 1,
   "metadata": {
    "collapsed": false,
    "scrolled": true
   },
   "outputs": [
    {
     "name": "stdout",
     "output_type": "stream",
     "text": [
      "Please enter behavior search string: I would have promised those terrorists a trip to Disneyland if it would have gotten the hostages released! I thank God they were satisfied with the missiles and we didn't have to go to that extreme.\n",
      "$$$$$$$$$$$$$$$$$$$$$$\n",
      "['I', 'would', 'have', 'promised', 'those', 'terrorists', 'a', 'trip', 'to', 'Disneyland', 'if', 'it', 'would', 'have', 'gotten', 'the', 'hostages', 'released', '!', 'I', 'thank', 'God', 'they', 'were', 'satisfied', 'with', 'the', 'missiles', 'and', 'we', 'did', \"n't\", 'have', 'to', 'go', 'to', 'that', 'extreme', '.']\n",
      "######################\n",
      "['i', 'would', 'promised', 'terrorists', 'trip', 'disneyland', 'would', 'gotten', 'hostages', 'released', '!', 'i', 'thank', 'god', 'satisfied', 'missiles', \"n't\", 'go', 'extreme', '.']\n"
     ]
    }
   ],
   "source": [
    "import sys\n",
    "sys.path.append(\"..\")  # Adds higher directory to python modules path.\n",
    "from main import *\n",
    "import matplotlib.pyplot as plt\n",
    "\n",
    "\n",
    "def piePlot():\n",
    "\n",
    "    response = input(\"Please enter behavior search string: \")\n",
    "    message = Msg(response).words\n",
    "\n",
    "    analyze = Analyze()\n",
    "    behaviors = analyze.analyze_behavior(message)\n",
    "    domains = analyze.analyze_domain(message)\n",
    "\n",
    "    # Behavior\n",
    "    behavior_entries = list()\n",
    "    behavior_numbers = list()\n",
    "    behavior_explode = list()\n",
    "\n",
    "    # Domain\n",
    "    domain_entries = list()\n",
    "    domain_numbers = list()\n",
    "    domain_explode = list()\n",
    "\n",
    "    for tup in behaviors:\n",
    "        behavior_numbers.append(tup[1])\n",
    "        behavior_entries.append(tup[0].title())\n",
    "\n",
    "        # make the first element of the list pop out of the chart\n",
    "        if tup == behaviors[0]:\n",
    "            behavior_explode.append(0.1)\n",
    "        else:\n",
    "            behavior_explode.append(0)\n",
    "\n",
    "    for tup in domains:\n",
    "        domain_numbers.append(tup[1])\n",
    "        domain_entries.append(tup[0].title())\n",
    "\n",
    "        if tup == domains[0]:\n",
    "            domain_explode.append(0.1)\n",
    "        else:\n",
    "            domain_explode.append(0)\n",
    "\n",
    "    # Data to plot\n",
    "    labels = behavior_entries\n",
    "    sizes = behavior_numbers\n",
    "    colors = ['gold', 'yellowgreen', 'lightcoral', 'lightskyblue', 'blueviolet',\n",
    "              'cadetblue', 'turquoise']\n",
    "\n",
    "    # Behavior Plot\n",
    "    plt.figure(1)\n",
    "    plt.pie(sizes, explode=behavior_explode, labels=labels, colors=colors,\n",
    "            autopct='%1.1f%%', shadow=True, startangle=140)\n",
    "    plt.axis('equal')\n",
    "    plt.show()\n",
    "\n",
    "    labels = domain_entries\n",
    "    sizes = domain_numbers\n",
    "\n",
    "    # Domain Plot\n",
    "    plt.figure(2)\n",
    "    plt.pie(sizes, explode=domain_explode, labels=labels, colors=colors,\n",
    "            autopct='%1.1f%%', shadow=True, startangle=140)\n",
    "    plt.axis('equal')\n",
    "    plt.show()\n",
    "\n",
    "if __name__ == '__main__':\n",
    "    piePlot()\n",
    "\n"
   ]
  },
  {
   "cell_type": "code",
   "execution_count": null,
   "metadata": {
    "collapsed": true
   },
   "outputs": [],
   "source": []
  }
 ],
 "metadata": {
  "anaconda-cloud": {},
  "kernelspec": {
   "display_name": "Python [Root]",
   "language": "python",
   "name": "Python [Root]"
  },
  "language_info": {
   "codemirror_mode": {
    "name": "ipython",
    "version": 3
   },
   "file_extension": ".py",
   "mimetype": "text/x-python",
   "name": "python",
   "nbconvert_exporter": "python",
   "pygments_lexer": "ipython3",
   "version": "3.5.2"
  }
 },
 "nbformat": 4,
 "nbformat_minor": 0
}
